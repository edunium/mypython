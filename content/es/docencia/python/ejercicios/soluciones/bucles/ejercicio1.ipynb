{
  "cells": [
    {
      "cell_type": "markdown",
      "metadata": {
        "id": "ICF9KgAZjHiG"
      },
      "source": [
        "## Ejercicio\n",
        "\n",
        "Escribir un programa que pida al usuario una palabra y la muestre 10 veces por pantalla."
      ]
    },
    {
      "cell_type": "markdown",
      "metadata": {
        "id": "s4Aiy6oOjHjL"
      },
      "source": [
        "## Solución"
      ]
    },
    {
      "cell_type": "code",
      "execution_count": null,
      "metadata": {
        "id": "Fj_b01T3jHjQ",
        "outputId": "1e3cf50a-b285-4498-aa8a-ef9f4dd48e17"
      },
      "outputs": [
        {
          "name": "stdin",
          "output_type": "stream",
          "text": [
            "Introduce una palabra:  Alf\n"
          ]
        },
        {
          "name": "stdout",
          "output_type": "stream",
          "text": [
            "Alf\n",
            "Alf\n",
            "Alf\n",
            "Alf\n",
            "Alf\n",
            "Alf\n",
            "Alf\n",
            "Alf\n",
            "Alf\n",
            "Alf\n"
          ]
        }
      ],
      "source": [
        "word = input(\"Introduce una palabra: \")\n",
        "for i in range(10):\n",
        "    print(word)"
      ]
    },
    {
      "cell_type": "code",
      "source": [
        "import os\n",
        "\n",
        "def menu():\n",
        "    print(\"\\n1. Actualizar systema\")\n",
        "    print(\"\\n0. Salir\")\n",
        "    op = input(\"\\nIngrese una opcion... \")\n",
        "    if op == \"1\":\n",
        "        Actualizar()\n",
        "    else:\n",
        "        if op == \"0\":\n",
        "            Salir()\n",
        "\n",
        "def Actualizar():\n",
        "    os.system(\"sudo pacman -Syyu\")\n",
        "    contador = 0\n",
        "    while contador != \"3\":\n",
        "        os.system(\"ping 8.8.8.8 \")\n",
        "        contador +1\n",
        "        break\n",
        "    #exit\n",
        "\n",
        "def Salir():\n",
        "    exit\n",
        "\n",
        "menu()\n"
      ],
      "metadata": {
        "colab": {
          "base_uri": "https://localhost:8080/"
        },
        "id": "yka0Z65_jQ2p",
        "outputId": "ef207c73-ceec-473e-9112-85054ceb360d"
      },
      "execution_count": 1,
      "outputs": [
        {
          "name": "stdout",
          "output_type": "stream",
          "text": [
            "\n",
            "1. Actualizar systema\n",
            "\n",
            "0. Salir\n",
            "\n",
            "Ingrese una opcion... 1\n"
          ]
        }
      ]
    }
  ],
  "metadata": {
    "kernelspec": {
      "display_name": "Python 3",
      "language": "python",
      "name": "python3"
    },
    "language_info": {
      "codemirror_mode": {
        "name": "ipython",
        "version": 3
      },
      "file_extension": ".py",
      "mimetype": "text/x-python",
      "name": "python",
      "nbconvert_exporter": "python",
      "pygments_lexer": "ipython3",
      "version": "3.7.1"
    },
    "colab": {
      "name": "ejercicio1.ipynb",
      "provenance": []
    }
  },
  "nbformat": 4,
  "nbformat_minor": 0
}